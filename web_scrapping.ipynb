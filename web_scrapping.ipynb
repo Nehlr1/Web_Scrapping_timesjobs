{
 "cells": [
  {
   "cell_type": "code",
   "execution_count": 2,
   "metadata": {},
   "outputs": [],
   "source": [
    "from bs4 import BeautifulSoup\n",
    "import requests"
   ]
  },
  {
   "cell_type": "code",
   "execution_count": 11,
   "metadata": {},
   "outputs": [
    {
     "name": "stdout",
     "output_type": "stream",
     "text": [
      "Put some skills that you are not familiar with\n",
      "Filtering out sas\n",
      "File saved: 0\n",
      "File saved: 1\n",
      "File saved: 2\n",
      "File saved: 3\n",
      "File saved: 7\n",
      "File saved: 8\n",
      "File saved: 10\n",
      "File saved: 11\n",
      "File saved: 12\n",
      "File saved: 13\n",
      "File saved: 14\n",
      "File saved: 15\n",
      "File saved: 16\n",
      "File saved: 17\n",
      "File saved: 18\n",
      "File saved: 19\n",
      "File saved: 20\n",
      "File saved: 21\n",
      "File saved: 23\n"
     ]
    }
   ],
   "source": [
    "print(\"Put some skills that you are not familiar with\")\n",
    "unfamiliar_skill = input('>')\n",
    "print(f\"Filtering out {unfamiliar_skill}\")\n",
    "\n",
    "html_text = requests.get('https://www.timesjobs.com/candidate/job-search.html?searchType=personalizedSearch&from=submit&txtKeywords=Data+Scientist&txtLocation=').text\n",
    "soup = BeautifulSoup(html_text, 'lxml')\n",
    "jobs = soup.find_all('li', class_='clearfix job-bx wht-shd-bx')\n",
    "\n",
    "for index, job in enumerate(jobs):\n",
    "    publish_date = job.find('span', class_='sim-posted').span.text\n",
    "    if 'few' in publish_date:\n",
    "        company_name = job.find('h3', class_='joblist-comp-name').text.replace(' ', '')\n",
    "        skills = job.find('span', class_='srp-skills').text.replace(' ', '')\n",
    "        job_info = job.header.h2.a['href']\n",
    "        if unfamiliar_skill not in skills:\n",
    "            with open(f'posts/{index}.txt', 'w') as f:\n",
    "                f.write(f\"Company Name: {company_name.strip()} \\n\")\n",
    "                f.write(f\"Required Skills: {skills.strip()} \\n\")\n",
    "                f.write(f\"Job Information: {job_info.strip()} \\n\")\n",
    "            print(f'File saved: {index}')\n",
    "            # print(f\"Company Name: {company_name.strip()}\")\n",
    "            # print(f\"Required Skills: {skills.strip()}\")\n",
    "            # print(f\"Job Information: {job_info.strip()}\")\n",
    "            # print('')"
   ]
  }
 ],
 "metadata": {
  "kernelspec": {
   "display_name": "Python 3",
   "language": "python",
   "name": "python3"
  },
  "language_info": {
   "codemirror_mode": {
    "name": "ipython",
    "version": 3
   },
   "file_extension": ".py",
   "mimetype": "text/x-python",
   "name": "python",
   "nbconvert_exporter": "python",
   "pygments_lexer": "ipython3",
   "version": "3.9.13"
  },
  "orig_nbformat": 4
 },
 "nbformat": 4,
 "nbformat_minor": 2
}
